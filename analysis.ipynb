{
 "cells": [
  {
   "cell_type": "code",
   "execution_count": 20,
   "metadata": {},
   "outputs": [],
   "source": [
    "import numpy as np\n",
    "import matplotlib.pyplot as plt\n",
    "import seaborn as sns\n",
    "from sklearn import preprocessing\n",
    "import pandas as pd \n",
    "sns.set_theme()\n",
    "plt.style.use('seaborn-colorblind')"
   ]
  },
  {
   "cell_type": "code",
   "execution_count": 45,
   "metadata": {},
   "outputs": [
    {
     "data": {
      "text/html": [
       "<div>\n",
       "<style scoped>\n",
       "    .dataframe tbody tr th:only-of-type {\n",
       "        vertical-align: middle;\n",
       "    }\n",
       "\n",
       "    .dataframe tbody tr th {\n",
       "        vertical-align: top;\n",
       "    }\n",
       "\n",
       "    .dataframe thead th {\n",
       "        text-align: right;\n",
       "    }\n",
       "</style>\n",
       "<table border=\"1\" class=\"dataframe\">\n",
       "  <thead>\n",
       "    <tr style=\"text-align: right;\">\n",
       "      <th></th>\n",
       "      <th>Area</th>\n",
       "      <th>Camp</th>\n",
       "      <th>Crop_YieldA</th>\n",
       "      <th>Crop_YieldB</th>\n",
       "      <th>Fire</th>\n",
       "      <th>Harvest_Year</th>\n",
       "      <th>Patch_ID</th>\n",
       "      <th>Population</th>\n",
       "      <th>Actual_CropYield</th>\n",
       "    </tr>\n",
       "  </thead>\n",
       "  <tbody>\n",
       "    <tr>\n",
       "      <th>0</th>\n",
       "      <td>11.7633</td>\n",
       "      <td>Hartman</td>\n",
       "      <td>1.013300e+04</td>\n",
       "      <td>5398.3125</td>\n",
       "      <td>0</td>\n",
       "      <td>2004</td>\n",
       "      <td>446</td>\n",
       "      <td>16033</td>\n",
       "      <td>9563.180</td>\n",
       "    </tr>\n",
       "    <tr>\n",
       "      <th>1</th>\n",
       "      <td>11.7633</td>\n",
       "      <td>Hartman</td>\n",
       "      <td>2.960000e+28</td>\n",
       "      <td>28984.5000</td>\n",
       "      <td>0</td>\n",
       "      <td>2010</td>\n",
       "      <td>446</td>\n",
       "      <td>85909</td>\n",
       "      <td>889.200</td>\n",
       "    </tr>\n",
       "    <tr>\n",
       "      <th>2</th>\n",
       "      <td>12.3053</td>\n",
       "      <td>Hartman</td>\n",
       "      <td>1.193802e+04</td>\n",
       "      <td>7174.9125</td>\n",
       "      <td>0</td>\n",
       "      <td>2004</td>\n",
       "      <td>448</td>\n",
       "      <td>24853</td>\n",
       "      <td>7792.272</td>\n",
       "    </tr>\n",
       "    <tr>\n",
       "      <th>3</th>\n",
       "      <td>12.3053</td>\n",
       "      <td>Hartman</td>\n",
       "      <td>0.000000e+00</td>\n",
       "      <td>10342.0125</td>\n",
       "      <td>0</td>\n",
       "      <td>2009</td>\n",
       "      <td>448</td>\n",
       "      <td>30643</td>\n",
       "      <td>15106.000</td>\n",
       "    </tr>\n",
       "    <tr>\n",
       "      <th>4</th>\n",
       "      <td>12.3053</td>\n",
       "      <td>Hartman</td>\n",
       "      <td>3.440000e+27</td>\n",
       "      <td>95884.4250</td>\n",
       "      <td>0</td>\n",
       "      <td>2015</td>\n",
       "      <td>448</td>\n",
       "      <td>284115</td>\n",
       "      <td>9264.000</td>\n",
       "    </tr>\n",
       "  </tbody>\n",
       "</table>\n",
       "</div>"
      ],
      "text/plain": [
       "      Area     Camp   Crop_YieldA  Crop_YieldB  Fire  Harvest_Year  Patch_ID  \\\n",
       "0  11.7633  Hartman  1.013300e+04    5398.3125     0          2004       446   \n",
       "1  11.7633  Hartman  2.960000e+28   28984.5000     0          2010       446   \n",
       "2  12.3053  Hartman  1.193802e+04    7174.9125     0          2004       448   \n",
       "3  12.3053  Hartman  0.000000e+00   10342.0125     0          2009       448   \n",
       "4  12.3053  Hartman  3.440000e+27   95884.4250     0          2015       448   \n",
       "\n",
       "   Population  Actual_CropYield  \n",
       "0       16033          9563.180  \n",
       "1       85909           889.200  \n",
       "2       24853          7792.272  \n",
       "3       30643         15106.000  \n",
       "4      284115          9264.000  "
      ]
     },
     "execution_count": 45,
     "metadata": {},
     "output_type": "execute_result"
    }
   ],
   "source": [
    "crop_yields = pd.read_csv(\"initial_crop_yields.csv\")\n",
    "crop_yields.head()"
   ]
  },
  {
   "cell_type": "code",
   "execution_count": 46,
   "metadata": {},
   "outputs": [
    {
     "data": {
      "text/plain": [
       "<AxesSubplot:xlabel='Harvest_Year', ylabel='Actual_CropYield'>"
      ]
     },
     "execution_count": 46,
     "metadata": {},
     "output_type": "execute_result"
    },
    {
     "data": {
      "image/png": "[encoded data removed]",
      "text/plain": [
       "<Figure size 432x288 with 1 Axes>"
      ]
     },
     "metadata": {},
     "output_type": "display_data"
    }
   ],
   "source": [
    "sns.barplot(data=crop_yields, x=\"Harvest_Year\", y=\"Actual_CropYield\", hue=\"Patch_ID\")"
   ]
  },
  {
   "cell_type": "code",
   "execution_count": 44,
   "metadata": {},
   "outputs": [
    {
     "data": {
      "text/plain": [
       "<AxesSubplot:xlabel='Harvest_Year', ylabel='Crop_YieldB'>"
      ]
     },
     "execution_count": 44,
     "metadata": {},
     "output_type": "execute_result"
    },
    {
     "data": {
      "image/png": "[encoded data removed]",
      "text/plain": [
       "<Figure size 432x288 with 1 Axes>"
      ]
     },
     "metadata": {},
     "output_type": "display_data"
    }
   ],
   "source": [
    "sns.barplot(data=crop_yields, x=\"Harvest_Year\", y=\"Crop_YieldB\", hue=\"Patch_ID\")"
   ]
  },
  {
   "cell_type": "code",
   "execution_count": 53,
   "metadata": {},
   "outputs": [
    {
     "data": {
      "text/plain": [
       "<AxesSubplot:xlabel='Harvest_Year', ylabel='Crop_YieldA'>"
      ]
     },
     "execution_count": 53,
     "metadata": {},
     "output_type": "execute_result"
    },
    {
     "data": {
      "image/png": "[encoded data removed]",
      "text/plain": [
       "<Figure size 432x288 with 1 Axes>"
      ]
     },
     "metadata": {},
     "output_type": "display_data"
    }
   ],
   "source": [
    "sns.barplot(data=crop_yields, x=\"Harvest_Year\", y=\"Crop_YieldA\", hue=\"Patch_ID\")"
   ]
  },
  {
   "cell_type": "code",
   "execution_count": 51,
   "metadata": {},
   "outputs": [
    {
     "data": {
      "text/html": [
       "<div>\n",
       "<style scoped>\n",
       "    .dataframe tbody tr th:only-of-type {\n",
       "        vertical-align: middle;\n",
       "    }\n",
       "\n",
       "    .dataframe tbody tr th {\n",
       "        vertical-align: top;\n",
       "    }\n",
       "\n",
       "    .dataframe thead th {\n",
       "        text-align: right;\n",
       "    }\n",
       "</style>\n",
       "<table border=\"1\" class=\"dataframe\">\n",
       "  <thead>\n",
       "    <tr style=\"text-align: right;\">\n",
       "      <th></th>\n",
       "      <th>Area</th>\n",
       "      <th>Camp</th>\n",
       "      <th>Crop_Yield</th>\n",
       "      <th>Fire</th>\n",
       "      <th>Harvest_Year</th>\n",
       "      <th>Patch_ID</th>\n",
       "      <th>Population</th>\n",
       "      <th>Type_Crop_Yield</th>\n",
       "    </tr>\n",
       "  </thead>\n",
       "  <tbody>\n",
       "    <tr>\n",
       "      <th>0</th>\n",
       "      <td>11.7633</td>\n",
       "      <td>Hartman</td>\n",
       "      <td>10133.0000</td>\n",
       "      <td>0</td>\n",
       "      <td>2004</td>\n",
       "      <td>446</td>\n",
       "      <td>16033</td>\n",
       "      <td>Crop_YieldA</td>\n",
       "    </tr>\n",
       "    <tr>\n",
       "      <th>1</th>\n",
       "      <td>11.7633</td>\n",
       "      <td>Hartman</td>\n",
       "      <td>29984.5000</td>\n",
       "      <td>0</td>\n",
       "      <td>2010</td>\n",
       "      <td>446</td>\n",
       "      <td>85909</td>\n",
       "      <td>Crop_YieldA</td>\n",
       "    </tr>\n",
       "    <tr>\n",
       "      <th>2</th>\n",
       "      <td>11.7633</td>\n",
       "      <td>Hartman</td>\n",
       "      <td>9563.1800</td>\n",
       "      <td>0</td>\n",
       "      <td>2004</td>\n",
       "      <td>446</td>\n",
       "      <td>16033</td>\n",
       "      <td>Actual</td>\n",
       "    </tr>\n",
       "    <tr>\n",
       "      <th>3</th>\n",
       "      <td>11.7633</td>\n",
       "      <td>Hartman</td>\n",
       "      <td>889.2000</td>\n",
       "      <td>0</td>\n",
       "      <td>2010</td>\n",
       "      <td>446</td>\n",
       "      <td>85909</td>\n",
       "      <td>Actual</td>\n",
       "    </tr>\n",
       "    <tr>\n",
       "      <th>4</th>\n",
       "      <td>11.7633</td>\n",
       "      <td>Hartman</td>\n",
       "      <td>5398.3125</td>\n",
       "      <td>0</td>\n",
       "      <td>2004</td>\n",
       "      <td>446</td>\n",
       "      <td>16033</td>\n",
       "      <td>Crop_YieldB</td>\n",
       "    </tr>\n",
       "  </tbody>\n",
       "</table>\n",
       "</div>"
      ],
      "text/plain": [
       "      Area     Camp  Crop_Yield  Fire  Harvest_Year  Patch_ID  Population  \\\n",
       "0  11.7633  Hartman  10133.0000     0          2004       446       16033   \n",
       "1  11.7633  Hartman  29984.5000     0          2010       446       85909   \n",
       "2  11.7633  Hartman   9563.1800     0          2004       446       16033   \n",
       "3  11.7633  Hartman    889.2000     0          2010       446       85909   \n",
       "4  11.7633  Hartman   5398.3125     0          2004       446       16033   \n",
       "\n",
       "  Type_Crop_Yield  \n",
       "0     Crop_YieldA  \n",
       "1     Crop_YieldA  \n",
       "2          Actual  \n",
       "3          Actual  \n",
       "4     Crop_YieldB  "
      ]
     },
     "execution_count": 51,
     "metadata": {},
     "output_type": "execute_result"
    }
   ],
   "source": [
    "hartman = pd.read_csv(\"hartman.csv\")\n",
    "hartman.head()"
   ]
  },
  {
   "cell_type": "code",
   "execution_count": 52,
   "metadata": {},
   "outputs": [
    {
     "data": {
      "text/plain": [
       "<AxesSubplot:xlabel='Harvest_Year', ylabel='Crop_Yield'>"
      ]
     },
     "execution_count": 52,
     "metadata": {},
     "output_type": "execute_result"
    },
    {
     "data": {
      "image/png": "[encoded data removed]",
      "text/plain": [
       "<Figure size 432x288 with 1 Axes>"
      ]
     },
     "metadata": {},
     "output_type": "display_data"
    }
   ],
   "source": [
    "sns.barplot(data=hartman, x=\"Harvest_Year\", y=\"Crop_Yield\", hue=\"Type_Crop_Yield\")"
   ]
  }
 ],
 "metadata": {
  "kernelspec": {
   "display_name": "Python 3.10.4 64-bit",
   "language": "python",
   "name": "python3"
  },
  "language_info": {
   "codemirror_mode": {
    "name": "ipython",
    "version": 3
   },
   "file_extension": ".py",
   "mimetype": "text/x-python",
   "name": "python",
   "nbconvert_exporter": "python",
   "pygments_lexer": "ipython3",
   "version": "3.10.4"
  },
  "orig_nbformat": 4,
  "vscode": {
   "interpreter": {
    "hash": "f21110af21471b7c10296e7a2d41b6b53fe601cd1b83607dd2cc9350f41a7dd4"
   }
  }
 },
 "nbformat": 4,
 "nbformat_minor": 2
}
